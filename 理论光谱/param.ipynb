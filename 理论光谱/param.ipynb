{
 "cells": [
  {
   "cell_type": "code",
   "execution_count": 14,
   "metadata": {
    "collapsed": true
   },
   "outputs": [
    {
     "name": "stdout",
     "output_type": "stream",
     "text": [
      "Absolute_r and Absolute_i are not None\n",
      "nan\n",
      "<class 'numpy.float64'>\n",
      "4.4974177381739615\n",
      "<class 'numpy.float64'>\n"
     ]
    }
   ],
   "source": [
    "import pandas as pd\n",
    "param=pd.read_csv('params_5000_5500_ra_dec_sduss_sdssdr12_WISE_gaia.csv')\n",
    "param.head()\n",
    "if param['Absolute_r'][0] is not None and param['Absolute_i'][0] is not None:\n",
    "    print('Absolute_r and Absolute_i are not None')\n",
    "print(param['Absolute_r'][7])\n",
    "print(type(param['Absolute_i'][7]))\n",
    "print(param['Absolute_r'][0])\n",
    "print(type(param['Absolute_i'][0]))\n",
    "if param['TEFFADOP'][0]>5000-50 and param['TEFFADOP'][0]<5000+50:\n",
    "    print('TEFFADOP is in the range')\n"
   ]
  },
  {
   "cell_type": "code",
   "execution_count": 17,
   "outputs": [
    {
     "name": "stdout",
     "output_type": "stream",
     "text": [
      "5000 4.0 0 5.35483320659296 5.712347423984265\n",
      "5000 4.0 -0.5 5.537494019574729 6.125755792302002\n",
      "5000 4.5 0 5.686721167202103 5.8952387745319434\n",
      "5000 4.5 -0.5 5.550182490828033 5.856371759550499\n",
      "5000 5 0 1 1\n",
      "5000 5 -0.5 1 1\n",
      "5100 4.0 0 5.44235346706584 5.700499899498273\n",
      "5100 4.0 -0.5 5.1540117047577825 5.528911223988553\n",
      "5100 4.5 0 5.444327438080062 5.7000281584592125\n",
      "5100 4.5 -0.5 5.432916719602013 5.681600790731724\n",
      "5100 5 0 1 1\n",
      "5100 5 -0.5 1 1\n",
      "5200 4.0 0 5.069433970156224 5.31403976607459\n",
      "5200 4.0 -0.5 5.062309207936278 5.339751669474739\n",
      "5200 4.5 0 5.33817743048901 5.554301030489014\n",
      "5200 4.5 -0.5 5.335099582230983 5.5471211328729275\n",
      "5200 5 0 1 1\n",
      "5200 5 -0.5 1 1\n",
      "5300 4.0 0 4.992651409062938 5.2142559090629375\n",
      "5300 4.0 -0.5 4.933077875599906 5.116991398327177\n",
      "5300 4.5 0 5.247111521671638 5.477134928189645\n",
      "5300 4.5 -0.5 5.261358146789797 5.4827278496245855\n",
      "5300 5 0 1 1\n",
      "5300 5 -0.5 1 1\n",
      "5400 4.0 0 4.909889987950517 5.158273248004134\n",
      "5400 4.0 -0.5 4.817320727166837 5.0485186067737144\n",
      "5400 4.5 0 5.099877562333885 5.2861817009702445\n",
      "5400 4.5 -0.5 5.120538968650105 5.30770038391655\n",
      "5400 5 0 1 1\n",
      "5400 5 -0.5 1 1\n",
      "5500 4.0 0 4.799936145654076 4.9943511476621145\n",
      "5500 4.0 -0.5 4.805945150368823 4.9858473531660294\n",
      "5500 4.5 0 4.986635313990436 5.161778901930119\n",
      "5500 4.5 -0.5 5.025267318643562 5.208611293136702\n",
      "5500 5 0 1 1\n",
      "5500 5 -0.5 1 1\n"
     ]
    }
   ],
   "source": [
    "def avg_i_r(teff,logg,feh):\n",
    "    #return (teff-5777.0)*(logg-4.44)/(0.4*(feh+0.57))+0.5\n",
    "    sum_i=0\n",
    "    count=0\n",
    "    sum_r=0\n",
    "    for i in range(len(param)):\n",
    "        r_empty=pd.isnull(param['Absolute_r'][i])\n",
    "        i_empty=pd.isnull(param['Absolute_r'][i])\n",
    "        if r_empty or i_empty:\n",
    "            continue\n",
    "        if(param['TEFFADOP'][i]<=teff+50 and param['TEFFADOP'][i]>teff-50) and (param['LOGGADOP'][i]<=logg+0.25 and param['LOGGADOP'][i]>logg-0.25) and (param['FEHADOP'][i]>feh-0.25 and param['FEHADOP'][i]<=feh+0.25):\n",
    "            sum_i+=param['Absolute_i'][i]\n",
    "            #print(sum_i,param['Absolute_i'][i])\n",
    "            sum_r+=param['Absolute_r'][i]\n",
    "            count+=1\n",
    "    # print('----')\n",
    "    # print(count)\n",
    "    # print(sum_i)\n",
    "    # print(sum_r)\n",
    "    # print('----')\n",
    "    if count==0:\n",
    "        return 1,1\n",
    "    else:\n",
    "        return sum_i/count,sum_r/count\n",
    "    #return sum_i/count,sum_r/count\n",
    "for k in [5000,5100,5200,5300,5400,5500]:\n",
    "    for j in [4.0,4.5,5]:\n",
    "        for l in [0,-0.5]:\n",
    "            #print(k,j,l,avg_i_r(k,j,l))\n",
    "            print(k,j,l,avg_i_r(k,j,l)[0],avg_i_r(k,j,l)[1])"
   ],
   "metadata": {
    "collapsed": false,
    "pycharm": {
     "name": "#%%\n"
    }
   }
  },
  {
   "cell_type": "code",
   "execution_count": 18,
   "outputs": [
    {
     "data": {
      "text/plain": "   teff  logg  feh      ab_i      ab_r  \\\n0  5000   4.0 -0.5  5.537494  6.125756   \n1  5000   4.0  0.0  5.354833  5.712347   \n2  5000   4.5 -0.5  5.550182  5.856372   \n3  5000   4.5  0.0  5.686721  5.895239   \n4  5100   4.0 -0.5  5.154012  5.528911   \n\n                                      fitsname       rmag       imag  \n0  H:\\理论光谱\\lte050-4.0-0.0a+0.0.BT-Settl.spec.7  13.921750  14.339217  \n1  H:\\理论光谱\\lte050-4.0-0.5a+0.2.BT-Settl.spec.7  13.920616  14.338083  \n2  H:\\理论光谱\\lte050-4.5-0.0a+0.0.BT-Settl.spec.7  13.922420  14.339887  \n3  H:\\理论光谱\\lte050-4.5-0.5a+0.2.BT-Settl.spec.7  13.924347  14.341814  \n4  H:\\理论光谱\\lte051-4.0-0.0a+0.0.BT-Settl.spec.7  13.900614  14.318081  ",
      "text/html": "<div>\n<style scoped>\n    .dataframe tbody tr th:only-of-type {\n        vertical-align: middle;\n    }\n\n    .dataframe tbody tr th {\n        vertical-align: top;\n    }\n\n    .dataframe thead th {\n        text-align: right;\n    }\n</style>\n<table border=\"1\" class=\"dataframe\">\n  <thead>\n    <tr style=\"text-align: right;\">\n      <th></th>\n      <th>teff</th>\n      <th>logg</th>\n      <th>feh</th>\n      <th>ab_i</th>\n      <th>ab_r</th>\n      <th>fitsname</th>\n      <th>rmag</th>\n      <th>imag</th>\n    </tr>\n  </thead>\n  <tbody>\n    <tr>\n      <th>0</th>\n      <td>5000</td>\n      <td>4.0</td>\n      <td>-0.5</td>\n      <td>5.537494</td>\n      <td>6.125756</td>\n      <td>H:\\理论光谱\\lte050-4.0-0.0a+0.0.BT-Settl.spec.7</td>\n      <td>13.921750</td>\n      <td>14.339217</td>\n    </tr>\n    <tr>\n      <th>1</th>\n      <td>5000</td>\n      <td>4.0</td>\n      <td>0.0</td>\n      <td>5.354833</td>\n      <td>5.712347</td>\n      <td>H:\\理论光谱\\lte050-4.0-0.5a+0.2.BT-Settl.spec.7</td>\n      <td>13.920616</td>\n      <td>14.338083</td>\n    </tr>\n    <tr>\n      <th>2</th>\n      <td>5000</td>\n      <td>4.5</td>\n      <td>-0.5</td>\n      <td>5.550182</td>\n      <td>5.856372</td>\n      <td>H:\\理论光谱\\lte050-4.5-0.0a+0.0.BT-Settl.spec.7</td>\n      <td>13.922420</td>\n      <td>14.339887</td>\n    </tr>\n    <tr>\n      <th>3</th>\n      <td>5000</td>\n      <td>4.5</td>\n      <td>0.0</td>\n      <td>5.686721</td>\n      <td>5.895239</td>\n      <td>H:\\理论光谱\\lte050-4.5-0.5a+0.2.BT-Settl.spec.7</td>\n      <td>13.924347</td>\n      <td>14.341814</td>\n    </tr>\n    <tr>\n      <th>4</th>\n      <td>5100</td>\n      <td>4.0</td>\n      <td>-0.5</td>\n      <td>5.154012</td>\n      <td>5.528911</td>\n      <td>H:\\理论光谱\\lte051-4.0-0.0a+0.0.BT-Settl.spec.7</td>\n      <td>13.900614</td>\n      <td>14.318081</td>\n    </tr>\n  </tbody>\n</table>\n</div>"
     },
     "execution_count": 18,
     "metadata": {},
     "output_type": "execute_result"
    }
   ],
   "source": [
    "ab_pd=pd.read_csv('ab.csv')\n",
    "ab_pd.head()"
   ],
   "metadata": {
    "collapsed": false,
    "pycharm": {
     "name": "#%%\n"
    }
   }
  },
  {
   "cell_type": "code",
   "execution_count": 29,
   "outputs": [
    {
     "name": "stdout",
     "output_type": "stream",
     "text": [
      "-7.794860373352332 -8.984383578270108\n",
      "-8.209402282931617 -8.80058922402679\n",
      "-8.067975069204017 -8.65316594312884\n",
      "-8.027181257851819 -8.791631415873667\n",
      "-8.369184922577698 -8.875727428775445\n",
      "-8.200113918395829 -9.161551519755653\n",
      "-8.221758074610445 -8.87457413969945\n",
      "-8.201406341373115 -8.887909223687334\n",
      "-8.538412656294636 -9.229182229228266\n",
      "-8.56710935536272 -9.233322195780278\n",
      "-8.335479465903092 -8.961417379530126\n",
      "-8.32782670158294 -8.964968094492223\n",
      "-8.740867654493425 -9.282876139673906\n",
      "-8.643804561726725 -9.342248255167878\n",
      "-8.380612246627404 -9.033203929893347\n",
      "-8.385713445428152 -9.01944902740938\n",
      "-8.790454730280162 -9.350264581616138\n",
      "-8.684414243615338 -9.439119687834225\n",
      "-8.538208766130033 -9.161231920166262\n",
      "-8.55746070358272 -9.142837259343665\n",
      "-8.832472703626024 -9.436170787989496\n",
      "-8.824288708034274 -9.429841984370414\n",
      "-8.61451063032883 -9.255324387450536\n",
      "-8.66271372156367 -9.215321682769154\n"
     ]
    },
    {
     "ename": "KeyError",
     "evalue": "24",
     "output_type": "error",
     "traceback": [
      "\u001B[1;31m---------------------------------------------------------------------------\u001B[0m",
      "\u001B[1;31mValueError\u001B[0m                                Traceback (most recent call last)",
      "File \u001B[1;32mF:\\code\\pycharm\\pachong2\\venv\\lib\\site-packages\\pandas\\core\\indexes\\range.py:385\u001B[0m, in \u001B[0;36mRangeIndex.get_loc\u001B[1;34m(self, key, method, tolerance)\u001B[0m\n\u001B[0;32m    384\u001B[0m \u001B[38;5;28;01mtry\u001B[39;00m:\n\u001B[1;32m--> 385\u001B[0m     \u001B[38;5;28;01mreturn\u001B[39;00m \u001B[38;5;28;43mself\u001B[39;49m\u001B[38;5;241;43m.\u001B[39;49m\u001B[43m_range\u001B[49m\u001B[38;5;241;43m.\u001B[39;49m\u001B[43mindex\u001B[49m\u001B[43m(\u001B[49m\u001B[43mnew_key\u001B[49m\u001B[43m)\u001B[49m\n\u001B[0;32m    386\u001B[0m \u001B[38;5;28;01mexcept\u001B[39;00m \u001B[38;5;167;01mValueError\u001B[39;00m \u001B[38;5;28;01mas\u001B[39;00m err:\n",
      "\u001B[1;31mValueError\u001B[0m: 24 is not in range",
      "\nThe above exception was the direct cause of the following exception:\n",
      "\u001B[1;31mKeyError\u001B[0m                                  Traceback (most recent call last)",
      "Input \u001B[1;32mIn [29]\u001B[0m, in \u001B[0;36m<cell line: 1>\u001B[1;34m()\u001B[0m\n\u001B[0;32m      1\u001B[0m \u001B[38;5;28;01mfor\u001B[39;00m i \u001B[38;5;129;01min\u001B[39;00m \u001B[38;5;28mrange\u001B[39m(\u001B[38;5;241m0\u001B[39m,\u001B[38;5;28mlen\u001B[39m(ab_pd)\u001B[38;5;241m+\u001B[39m\u001B[38;5;241m1\u001B[39m,\u001B[38;5;241m2\u001B[39m):\n\u001B[1;32m----> 2\u001B[0m     r_diff\u001B[38;5;241m=\u001B[39m\u001B[43mab_pd\u001B[49m\u001B[43m[\u001B[49m\u001B[38;5;124;43m'\u001B[39;49m\u001B[38;5;124;43mab_r\u001B[39;49m\u001B[38;5;124;43m'\u001B[39;49m\u001B[43m]\u001B[49m\u001B[43m[\u001B[49m\u001B[43mi\u001B[49m\u001B[43m]\u001B[49m\u001B[38;5;241m-\u001B[39mab_pd[\u001B[38;5;124m'\u001B[39m\u001B[38;5;124mrmag\u001B[39m\u001B[38;5;124m'\u001B[39m][i\u001B[38;5;241m+\u001B[39m\u001B[38;5;241m1\u001B[39m]\n\u001B[0;32m      3\u001B[0m     r_diff_1\u001B[38;5;241m=\u001B[39mab_pd[\u001B[38;5;124m'\u001B[39m\u001B[38;5;124mab_r\u001B[39m\u001B[38;5;124m'\u001B[39m][i\u001B[38;5;241m+\u001B[39m\u001B[38;5;241m1\u001B[39m]\u001B[38;5;241m-\u001B[39mab_pd[\u001B[38;5;124m'\u001B[39m\u001B[38;5;124mrmag\u001B[39m\u001B[38;5;124m'\u001B[39m][i]\n\u001B[0;32m      4\u001B[0m     i_diff\u001B[38;5;241m=\u001B[39mab_pd[\u001B[38;5;124m'\u001B[39m\u001B[38;5;124mab_i\u001B[39m\u001B[38;5;124m'\u001B[39m][i\u001B[38;5;241m+\u001B[39m\u001B[38;5;241m1\u001B[39m]\u001B[38;5;241m-\u001B[39mab_pd[\u001B[38;5;124m'\u001B[39m\u001B[38;5;124mimag\u001B[39m\u001B[38;5;124m'\u001B[39m][i]\n",
      "File \u001B[1;32mF:\\code\\pycharm\\pachong2\\venv\\lib\\site-packages\\pandas\\core\\series.py:958\u001B[0m, in \u001B[0;36mSeries.__getitem__\u001B[1;34m(self, key)\u001B[0m\n\u001B[0;32m    955\u001B[0m     \u001B[38;5;28;01mreturn\u001B[39;00m \u001B[38;5;28mself\u001B[39m\u001B[38;5;241m.\u001B[39m_values[key]\n\u001B[0;32m    957\u001B[0m \u001B[38;5;28;01melif\u001B[39;00m key_is_scalar:\n\u001B[1;32m--> 958\u001B[0m     \u001B[38;5;28;01mreturn\u001B[39;00m \u001B[38;5;28;43mself\u001B[39;49m\u001B[38;5;241;43m.\u001B[39;49m\u001B[43m_get_value\u001B[49m\u001B[43m(\u001B[49m\u001B[43mkey\u001B[49m\u001B[43m)\u001B[49m\n\u001B[0;32m    960\u001B[0m \u001B[38;5;28;01mif\u001B[39;00m is_hashable(key):\n\u001B[0;32m    961\u001B[0m     \u001B[38;5;66;03m# Otherwise index.get_value will raise InvalidIndexError\u001B[39;00m\n\u001B[0;32m    962\u001B[0m     \u001B[38;5;28;01mtry\u001B[39;00m:\n\u001B[0;32m    963\u001B[0m         \u001B[38;5;66;03m# For labels that don't resolve as scalars like tuples and frozensets\u001B[39;00m\n",
      "File \u001B[1;32mF:\\code\\pycharm\\pachong2\\venv\\lib\\site-packages\\pandas\\core\\series.py:1069\u001B[0m, in \u001B[0;36mSeries._get_value\u001B[1;34m(self, label, takeable)\u001B[0m\n\u001B[0;32m   1066\u001B[0m     \u001B[38;5;28;01mreturn\u001B[39;00m \u001B[38;5;28mself\u001B[39m\u001B[38;5;241m.\u001B[39m_values[label]\n\u001B[0;32m   1068\u001B[0m \u001B[38;5;66;03m# Similar to Index.get_value, but we do not fall back to positional\u001B[39;00m\n\u001B[1;32m-> 1069\u001B[0m loc \u001B[38;5;241m=\u001B[39m \u001B[38;5;28;43mself\u001B[39;49m\u001B[38;5;241;43m.\u001B[39;49m\u001B[43mindex\u001B[49m\u001B[38;5;241;43m.\u001B[39;49m\u001B[43mget_loc\u001B[49m\u001B[43m(\u001B[49m\u001B[43mlabel\u001B[49m\u001B[43m)\u001B[49m\n\u001B[0;32m   1070\u001B[0m \u001B[38;5;28;01mreturn\u001B[39;00m \u001B[38;5;28mself\u001B[39m\u001B[38;5;241m.\u001B[39mindex\u001B[38;5;241m.\u001B[39m_get_values_for_loc(\u001B[38;5;28mself\u001B[39m, loc, label)\n",
      "File \u001B[1;32mF:\\code\\pycharm\\pachong2\\venv\\lib\\site-packages\\pandas\\core\\indexes\\range.py:387\u001B[0m, in \u001B[0;36mRangeIndex.get_loc\u001B[1;34m(self, key, method, tolerance)\u001B[0m\n\u001B[0;32m    385\u001B[0m         \u001B[38;5;28;01mreturn\u001B[39;00m \u001B[38;5;28mself\u001B[39m\u001B[38;5;241m.\u001B[39m_range\u001B[38;5;241m.\u001B[39mindex(new_key)\n\u001B[0;32m    386\u001B[0m     \u001B[38;5;28;01mexcept\u001B[39;00m \u001B[38;5;167;01mValueError\u001B[39;00m \u001B[38;5;28;01mas\u001B[39;00m err:\n\u001B[1;32m--> 387\u001B[0m         \u001B[38;5;28;01mraise\u001B[39;00m \u001B[38;5;167;01mKeyError\u001B[39;00m(key) \u001B[38;5;28;01mfrom\u001B[39;00m \u001B[38;5;21;01merr\u001B[39;00m\n\u001B[0;32m    388\u001B[0m \u001B[38;5;28mself\u001B[39m\u001B[38;5;241m.\u001B[39m_check_indexing_error(key)\n\u001B[0;32m    389\u001B[0m \u001B[38;5;28;01mraise\u001B[39;00m \u001B[38;5;167;01mKeyError\u001B[39;00m(key)\n",
      "\u001B[1;31mKeyError\u001B[0m: 24"
     ]
    }
   ],
   "source": [
    "for i in range(0,len(ab_pd)+1,2):\n",
    "    r_diff=ab_pd['ab_r'][i]-ab_pd['rmag'][i+1]\n",
    "    r_diff_1=ab_pd['ab_r'][i+1]-ab_pd['rmag'][i]\n",
    "    i_diff=ab_pd['ab_i'][i+1]-ab_pd['imag'][i]\n",
    "    i_diff_1=ab_pd['ab_i'][i]-ab_pd['imag'][i+1]\n",
    "    print(r_diff,i_diff)\n",
    "    print(r_diff_1,i_diff_1)"
   ],
   "metadata": {
    "collapsed": false,
    "pycharm": {
     "name": "#%%\n"
    }
   }
  },
  {
   "cell_type": "code",
   "execution_count": 24,
   "outputs": [
    {
     "data": {
      "text/plain": "5.347134065088721"
     },
     "execution_count": 24,
     "metadata": {},
     "output_type": "execute_result"
    }
   ],
   "source": [
    "ab_r_avg=param['Absolute_r']\n",
    "ab_r_avg.mean()\n"
   ],
   "metadata": {
    "collapsed": false,
    "pycharm": {
     "name": "#%%\n"
    }
   }
  },
  {
   "cell_type": "code",
   "execution_count": 25,
   "outputs": [
    {
     "data": {
      "text/plain": "5.138367575287465"
     },
     "execution_count": 25,
     "metadata": {},
     "output_type": "execute_result"
    }
   ],
   "source": [
    "ab_i_avg=param['Absolute_i']\n",
    "ab_i_avg.mean()"
   ],
   "metadata": {
    "collapsed": false,
    "pycharm": {
     "name": "#%%\n"
    }
   }
  },
  {
   "cell_type": "code",
   "execution_count": 26,
   "outputs": [
    {
     "data": {
      "text/plain": "8.524306463144558"
     },
     "execution_count": 26,
     "metadata": {},
     "output_type": "execute_result"
    }
   ],
   "source": [
    "ab_pd['rmag'].mean()-ab_r_avg.mean()"
   ],
   "metadata": {
    "collapsed": false,
    "pycharm": {
     "name": "#%%\n"
    }
   }
  },
  {
   "cell_type": "code",
   "execution_count": 27,
   "outputs": [
    {
     "data": {
      "text/plain": "9.150540030892998"
     },
     "execution_count": 27,
     "metadata": {},
     "output_type": "execute_result"
    }
   ],
   "source": [
    "ab_pd['imag'].mean()-ab_i_avg.mean()"
   ],
   "metadata": {
    "collapsed": false,
    "pycharm": {
     "name": "#%%\n"
    }
   }
  },
  {
   "cell_type": "code",
   "execution_count": null,
   "outputs": [],
   "source": [],
   "metadata": {
    "collapsed": false,
    "pycharm": {
     "name": "#%%\n"
    }
   }
  }
 ],
 "metadata": {
  "kernelspec": {
   "display_name": "Python 3",
   "language": "python",
   "name": "python3"
  },
  "language_info": {
   "codemirror_mode": {
    "name": "ipython",
    "version": 2
   },
   "file_extension": ".py",
   "mimetype": "text/x-python",
   "name": "python",
   "nbconvert_exporter": "python",
   "pygments_lexer": "ipython2",
   "version": "2.7.6"
  }
 },
 "nbformat": 4,
 "nbformat_minor": 0
}